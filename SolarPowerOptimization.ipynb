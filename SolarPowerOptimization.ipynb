{
  "nbformat": 4,
  "nbformat_minor": 0,
  "metadata": {
    "colab": {
      "name": "new.ipynb",
      "provenance": []
    },
    "kernelspec": {
      "name": "python3",
      "display_name": "Python 3"
    },
    "language_info": {
      "name": "python"
    }
  },
  "cells": [
    {
      "cell_type": "code",
      "execution_count": null,
      "metadata": {
        "id": "G10vCLv_b7zt"
      },
      "outputs": [],
      "source": [
        "import numpy as np\n",
        "import pandas as pd\n",
        "from sklearn import model_selection\n",
        "\n",
        "from sklearn.preprocessing import StandardScaler\n",
        "from xgboost import XGBRegressor\n",
        "from sklearn.metrics import  mean_squared_error  \n",
        "from sklearn import datasets"
      ]
    },
    {
      "cell_type": "code",
      "source": [
        "train_data=pd.read_csv('/content/drive/MyDrive/Wipro hackathon/Participants_Data_WSMLC/train.csv')\n",
        "test_data=pd.read_csv('/content/drive/MyDrive/Wipro hackathon/Participants_Data_WSMLC/test.csv')"
      ],
      "metadata": {
        "id": "YupzEmq9dQ2_"
      },
      "execution_count": null,
      "outputs": []
    },
    {
      "cell_type": "code",
      "source": [
        "features=train_data[['Year','Month','Day','Hour','Minute','Cloud Type','Dew Point','Temperature','Pressure','Relative Humidity','Solar Zenith Angle','Precipitable Water','Wind Direction','Wind Speed','Fill Flag']]\n",
        "features.head()"
      ],
      "metadata": {
        "colab": {
          "base_uri": "https://localhost:8080/",
          "height": 305
        },
        "id": "jxSe7EXCdUgf",
        "outputId": "2a4f4be4-d67f-4005-ac24-05409dd29604"
      },
      "execution_count": null,
      "outputs": [
        {
          "output_type": "execute_result",
          "data": {
            "text/html": [
              "\n",
              "  <div id=\"df-fedba76b-1e4c-4a0d-98d4-ee96a20b062a\">\n",
              "    <div class=\"colab-df-container\">\n",
              "      <div>\n",
              "<style scoped>\n",
              "    .dataframe tbody tr th:only-of-type {\n",
              "        vertical-align: middle;\n",
              "    }\n",
              "\n",
              "    .dataframe tbody tr th {\n",
              "        vertical-align: top;\n",
              "    }\n",
              "\n",
              "    .dataframe thead th {\n",
              "        text-align: right;\n",
              "    }\n",
              "</style>\n",
              "<table border=\"1\" class=\"dataframe\">\n",
              "  <thead>\n",
              "    <tr style=\"text-align: right;\">\n",
              "      <th></th>\n",
              "      <th>Year</th>\n",
              "      <th>Month</th>\n",
              "      <th>Day</th>\n",
              "      <th>Hour</th>\n",
              "      <th>Minute</th>\n",
              "      <th>Cloud Type</th>\n",
              "      <th>Dew Point</th>\n",
              "      <th>Temperature</th>\n",
              "      <th>Pressure</th>\n",
              "      <th>Relative Humidity</th>\n",
              "      <th>Solar Zenith Angle</th>\n",
              "      <th>Precipitable Water</th>\n",
              "      <th>Wind Direction</th>\n",
              "      <th>Wind Speed</th>\n",
              "      <th>Fill Flag</th>\n",
              "    </tr>\n",
              "  </thead>\n",
              "  <tbody>\n",
              "    <tr>\n",
              "      <th>0</th>\n",
              "      <td>2009</td>\n",
              "      <td>1</td>\n",
              "      <td>1</td>\n",
              "      <td>0</td>\n",
              "      <td>0</td>\n",
              "      <td>0</td>\n",
              "      <td>0.0</td>\n",
              "      <td>5.0</td>\n",
              "      <td>1010</td>\n",
              "      <td>75.34</td>\n",
              "      <td>106.15</td>\n",
              "      <td>0.499</td>\n",
              "      <td>346.1</td>\n",
              "      <td>3.1</td>\n",
              "      <td>0</td>\n",
              "    </tr>\n",
              "    <tr>\n",
              "      <th>1</th>\n",
              "      <td>2009</td>\n",
              "      <td>1</td>\n",
              "      <td>1</td>\n",
              "      <td>0</td>\n",
              "      <td>30</td>\n",
              "      <td>0</td>\n",
              "      <td>1.0</td>\n",
              "      <td>5.0</td>\n",
              "      <td>1010</td>\n",
              "      <td>80.81</td>\n",
              "      <td>112.28</td>\n",
              "      <td>0.490</td>\n",
              "      <td>346.1</td>\n",
              "      <td>3.1</td>\n",
              "      <td>0</td>\n",
              "    </tr>\n",
              "    <tr>\n",
              "      <th>2</th>\n",
              "      <td>2009</td>\n",
              "      <td>1</td>\n",
              "      <td>1</td>\n",
              "      <td>1</td>\n",
              "      <td>0</td>\n",
              "      <td>4</td>\n",
              "      <td>0.0</td>\n",
              "      <td>5.0</td>\n",
              "      <td>1010</td>\n",
              "      <td>78.27</td>\n",
              "      <td>118.50</td>\n",
              "      <td>0.482</td>\n",
              "      <td>347.9</td>\n",
              "      <td>3.2</td>\n",
              "      <td>0</td>\n",
              "    </tr>\n",
              "    <tr>\n",
              "      <th>3</th>\n",
              "      <td>2009</td>\n",
              "      <td>1</td>\n",
              "      <td>1</td>\n",
              "      <td>1</td>\n",
              "      <td>30</td>\n",
              "      <td>4</td>\n",
              "      <td>0.0</td>\n",
              "      <td>4.0</td>\n",
              "      <td>1010</td>\n",
              "      <td>78.27</td>\n",
              "      <td>124.78</td>\n",
              "      <td>0.478</td>\n",
              "      <td>347.9</td>\n",
              "      <td>3.1</td>\n",
              "      <td>0</td>\n",
              "    </tr>\n",
              "    <tr>\n",
              "      <th>4</th>\n",
              "      <td>2009</td>\n",
              "      <td>1</td>\n",
              "      <td>1</td>\n",
              "      <td>2</td>\n",
              "      <td>0</td>\n",
              "      <td>4</td>\n",
              "      <td>0.0</td>\n",
              "      <td>4.0</td>\n",
              "      <td>1010</td>\n",
              "      <td>76.45</td>\n",
              "      <td>131.12</td>\n",
              "      <td>0.475</td>\n",
              "      <td>350.0</td>\n",
              "      <td>3.0</td>\n",
              "      <td>0</td>\n",
              "    </tr>\n",
              "  </tbody>\n",
              "</table>\n",
              "</div>\n",
              "      <button class=\"colab-df-convert\" onclick=\"convertToInteractive('df-fedba76b-1e4c-4a0d-98d4-ee96a20b062a')\"\n",
              "              title=\"Convert this dataframe to an interactive table.\"\n",
              "              style=\"display:none;\">\n",
              "        \n",
              "  <svg xmlns=\"http://www.w3.org/2000/svg\" height=\"24px\"viewBox=\"0 0 24 24\"\n",
              "       width=\"24px\">\n",
              "    <path d=\"M0 0h24v24H0V0z\" fill=\"none\"/>\n",
              "    <path d=\"M18.56 5.44l.94 2.06.94-2.06 2.06-.94-2.06-.94-.94-2.06-.94 2.06-2.06.94zm-11 1L8.5 8.5l.94-2.06 2.06-.94-2.06-.94L8.5 2.5l-.94 2.06-2.06.94zm10 10l.94 2.06.94-2.06 2.06-.94-2.06-.94-.94-2.06-.94 2.06-2.06.94z\"/><path d=\"M17.41 7.96l-1.37-1.37c-.4-.4-.92-.59-1.43-.59-.52 0-1.04.2-1.43.59L10.3 9.45l-7.72 7.72c-.78.78-.78 2.05 0 2.83L4 21.41c.39.39.9.59 1.41.59.51 0 1.02-.2 1.41-.59l7.78-7.78 2.81-2.81c.8-.78.8-2.07 0-2.86zM5.41 20L4 18.59l7.72-7.72 1.47 1.35L5.41 20z\"/>\n",
              "  </svg>\n",
              "      </button>\n",
              "      \n",
              "  <style>\n",
              "    .colab-df-container {\n",
              "      display:flex;\n",
              "      flex-wrap:wrap;\n",
              "      gap: 12px;\n",
              "    }\n",
              "\n",
              "    .colab-df-convert {\n",
              "      background-color: #E8F0FE;\n",
              "      border: none;\n",
              "      border-radius: 50%;\n",
              "      cursor: pointer;\n",
              "      display: none;\n",
              "      fill: #1967D2;\n",
              "      height: 32px;\n",
              "      padding: 0 0 0 0;\n",
              "      width: 32px;\n",
              "    }\n",
              "\n",
              "    .colab-df-convert:hover {\n",
              "      background-color: #E2EBFA;\n",
              "      box-shadow: 0px 1px 2px rgba(60, 64, 67, 0.3), 0px 1px 3px 1px rgba(60, 64, 67, 0.15);\n",
              "      fill: #174EA6;\n",
              "    }\n",
              "\n",
              "    [theme=dark] .colab-df-convert {\n",
              "      background-color: #3B4455;\n",
              "      fill: #D2E3FC;\n",
              "    }\n",
              "\n",
              "    [theme=dark] .colab-df-convert:hover {\n",
              "      background-color: #434B5C;\n",
              "      box-shadow: 0px 1px 3px 1px rgba(0, 0, 0, 0.15);\n",
              "      filter: drop-shadow(0px 1px 2px rgba(0, 0, 0, 0.3));\n",
              "      fill: #FFFFFF;\n",
              "    }\n",
              "  </style>\n",
              "\n",
              "      <script>\n",
              "        const buttonEl =\n",
              "          document.querySelector('#df-fedba76b-1e4c-4a0d-98d4-ee96a20b062a button.colab-df-convert');\n",
              "        buttonEl.style.display =\n",
              "          google.colab.kernel.accessAllowed ? 'block' : 'none';\n",
              "\n",
              "        async function convertToInteractive(key) {\n",
              "          const element = document.querySelector('#df-fedba76b-1e4c-4a0d-98d4-ee96a20b062a');\n",
              "          const dataTable =\n",
              "            await google.colab.kernel.invokeFunction('convertToInteractive',\n",
              "                                                     [key], {});\n",
              "          if (!dataTable) return;\n",
              "\n",
              "          const docLinkHtml = 'Like what you see? Visit the ' +\n",
              "            '<a target=\"_blank\" href=https://colab.research.google.com/notebooks/data_table.ipynb>data table notebook</a>'\n",
              "            + ' to learn more about interactive tables.';\n",
              "          element.innerHTML = '';\n",
              "          dataTable['output_type'] = 'display_data';\n",
              "          await google.colab.output.renderOutput(dataTable, element);\n",
              "          const docLink = document.createElement('div');\n",
              "          docLink.innerHTML = docLinkHtml;\n",
              "          element.appendChild(docLink);\n",
              "        }\n",
              "      </script>\n",
              "    </div>\n",
              "  </div>\n",
              "  "
            ],
            "text/plain": [
              "   Year  Month  Day  ...  Wind Direction  Wind Speed  Fill Flag\n",
              "0  2009      1    1  ...           346.1         3.1          0\n",
              "1  2009      1    1  ...           346.1         3.1          0\n",
              "2  2009      1    1  ...           347.9         3.2          0\n",
              "3  2009      1    1  ...           347.9         3.1          0\n",
              "4  2009      1    1  ...           350.0         3.0          0\n",
              "\n",
              "[5 rows x 15 columns]"
            ]
          },
          "metadata": {},
          "execution_count": 10
        }
      ]
    },
    {
      "cell_type": "code",
      "source": [
        "train_y=train_data[['Clearsky DHI','Clearsky DNI','Clearsky GHI']]\n",
        "train_y.describe()"
      ],
      "metadata": {
        "colab": {
          "base_uri": "https://localhost:8080/",
          "height": 300
        },
        "id": "MmIhKhG6dYUz",
        "outputId": "f6006c64-f955-456b-eabf-188008cbfb19"
      },
      "execution_count": null,
      "outputs": [
        {
          "output_type": "execute_result",
          "data": {
            "text/html": [
              "\n",
              "  <div id=\"df-9c24dd02-b370-4cf3-8093-79fc28df9145\">\n",
              "    <div class=\"colab-df-container\">\n",
              "      <div>\n",
              "<style scoped>\n",
              "    .dataframe tbody tr th:only-of-type {\n",
              "        vertical-align: middle;\n",
              "    }\n",
              "\n",
              "    .dataframe tbody tr th {\n",
              "        vertical-align: top;\n",
              "    }\n",
              "\n",
              "    .dataframe thead th {\n",
              "        text-align: right;\n",
              "    }\n",
              "</style>\n",
              "<table border=\"1\" class=\"dataframe\">\n",
              "  <thead>\n",
              "    <tr style=\"text-align: right;\">\n",
              "      <th></th>\n",
              "      <th>Clearsky DHI</th>\n",
              "      <th>Clearsky DNI</th>\n",
              "      <th>Clearsky GHI</th>\n",
              "    </tr>\n",
              "  </thead>\n",
              "  <tbody>\n",
              "    <tr>\n",
              "      <th>count</th>\n",
              "      <td>175296.000000</td>\n",
              "      <td>175296.000000</td>\n",
              "      <td>175296.000000</td>\n",
              "    </tr>\n",
              "    <tr>\n",
              "      <th>mean</th>\n",
              "      <td>53.065426</td>\n",
              "      <td>330.065295</td>\n",
              "      <td>254.365490</td>\n",
              "    </tr>\n",
              "    <tr>\n",
              "      <th>std</th>\n",
              "      <td>64.201407</td>\n",
              "      <td>370.030821</td>\n",
              "      <td>327.705006</td>\n",
              "    </tr>\n",
              "    <tr>\n",
              "      <th>min</th>\n",
              "      <td>0.000000</td>\n",
              "      <td>0.000000</td>\n",
              "      <td>0.000000</td>\n",
              "    </tr>\n",
              "    <tr>\n",
              "      <th>25%</th>\n",
              "      <td>0.000000</td>\n",
              "      <td>0.000000</td>\n",
              "      <td>0.000000</td>\n",
              "    </tr>\n",
              "    <tr>\n",
              "      <th>50%</th>\n",
              "      <td>0.000000</td>\n",
              "      <td>0.000000</td>\n",
              "      <td>0.000000</td>\n",
              "    </tr>\n",
              "    <tr>\n",
              "      <th>75%</th>\n",
              "      <td>103.000000</td>\n",
              "      <td>736.000000</td>\n",
              "      <td>535.000000</td>\n",
              "    </tr>\n",
              "    <tr>\n",
              "      <th>max</th>\n",
              "      <td>565.000000</td>\n",
              "      <td>1040.000000</td>\n",
              "      <td>1063.000000</td>\n",
              "    </tr>\n",
              "  </tbody>\n",
              "</table>\n",
              "</div>\n",
              "      <button class=\"colab-df-convert\" onclick=\"convertToInteractive('df-9c24dd02-b370-4cf3-8093-79fc28df9145')\"\n",
              "              title=\"Convert this dataframe to an interactive table.\"\n",
              "              style=\"display:none;\">\n",
              "        \n",
              "  <svg xmlns=\"http://www.w3.org/2000/svg\" height=\"24px\"viewBox=\"0 0 24 24\"\n",
              "       width=\"24px\">\n",
              "    <path d=\"M0 0h24v24H0V0z\" fill=\"none\"/>\n",
              "    <path d=\"M18.56 5.44l.94 2.06.94-2.06 2.06-.94-2.06-.94-.94-2.06-.94 2.06-2.06.94zm-11 1L8.5 8.5l.94-2.06 2.06-.94-2.06-.94L8.5 2.5l-.94 2.06-2.06.94zm10 10l.94 2.06.94-2.06 2.06-.94-2.06-.94-.94-2.06-.94 2.06-2.06.94z\"/><path d=\"M17.41 7.96l-1.37-1.37c-.4-.4-.92-.59-1.43-.59-.52 0-1.04.2-1.43.59L10.3 9.45l-7.72 7.72c-.78.78-.78 2.05 0 2.83L4 21.41c.39.39.9.59 1.41.59.51 0 1.02-.2 1.41-.59l7.78-7.78 2.81-2.81c.8-.78.8-2.07 0-2.86zM5.41 20L4 18.59l7.72-7.72 1.47 1.35L5.41 20z\"/>\n",
              "  </svg>\n",
              "      </button>\n",
              "      \n",
              "  <style>\n",
              "    .colab-df-container {\n",
              "      display:flex;\n",
              "      flex-wrap:wrap;\n",
              "      gap: 12px;\n",
              "    }\n",
              "\n",
              "    .colab-df-convert {\n",
              "      background-color: #E8F0FE;\n",
              "      border: none;\n",
              "      border-radius: 50%;\n",
              "      cursor: pointer;\n",
              "      display: none;\n",
              "      fill: #1967D2;\n",
              "      height: 32px;\n",
              "      padding: 0 0 0 0;\n",
              "      width: 32px;\n",
              "    }\n",
              "\n",
              "    .colab-df-convert:hover {\n",
              "      background-color: #E2EBFA;\n",
              "      box-shadow: 0px 1px 2px rgba(60, 64, 67, 0.3), 0px 1px 3px 1px rgba(60, 64, 67, 0.15);\n",
              "      fill: #174EA6;\n",
              "    }\n",
              "\n",
              "    [theme=dark] .colab-df-convert {\n",
              "      background-color: #3B4455;\n",
              "      fill: #D2E3FC;\n",
              "    }\n",
              "\n",
              "    [theme=dark] .colab-df-convert:hover {\n",
              "      background-color: #434B5C;\n",
              "      box-shadow: 0px 1px 3px 1px rgba(0, 0, 0, 0.15);\n",
              "      filter: drop-shadow(0px 1px 2px rgba(0, 0, 0, 0.3));\n",
              "      fill: #FFFFFF;\n",
              "    }\n",
              "  </style>\n",
              "\n",
              "      <script>\n",
              "        const buttonEl =\n",
              "          document.querySelector('#df-9c24dd02-b370-4cf3-8093-79fc28df9145 button.colab-df-convert');\n",
              "        buttonEl.style.display =\n",
              "          google.colab.kernel.accessAllowed ? 'block' : 'none';\n",
              "\n",
              "        async function convertToInteractive(key) {\n",
              "          const element = document.querySelector('#df-9c24dd02-b370-4cf3-8093-79fc28df9145');\n",
              "          const dataTable =\n",
              "            await google.colab.kernel.invokeFunction('convertToInteractive',\n",
              "                                                     [key], {});\n",
              "          if (!dataTable) return;\n",
              "\n",
              "          const docLinkHtml = 'Like what you see? Visit the ' +\n",
              "            '<a target=\"_blank\" href=https://colab.research.google.com/notebooks/data_table.ipynb>data table notebook</a>'\n",
              "            + ' to learn more about interactive tables.';\n",
              "          element.innerHTML = '';\n",
              "          dataTable['output_type'] = 'display_data';\n",
              "          await google.colab.output.renderOutput(dataTable, element);\n",
              "          const docLink = document.createElement('div');\n",
              "          docLink.innerHTML = docLinkHtml;\n",
              "          element.appendChild(docLink);\n",
              "        }\n",
              "      </script>\n",
              "    </div>\n",
              "  </div>\n",
              "  "
            ],
            "text/plain": [
              "        Clearsky DHI   Clearsky DNI   Clearsky GHI\n",
              "count  175296.000000  175296.000000  175296.000000\n",
              "mean       53.065426     330.065295     254.365490\n",
              "std        64.201407     370.030821     327.705006\n",
              "min         0.000000       0.000000       0.000000\n",
              "25%         0.000000       0.000000       0.000000\n",
              "50%         0.000000       0.000000       0.000000\n",
              "75%       103.000000     736.000000     535.000000\n",
              "max       565.000000    1040.000000    1063.000000"
            ]
          },
          "metadata": {},
          "execution_count": 11
        }
      ]
    },
    {
      "cell_type": "code",
      "source": [
        "def create_folds(data, num_splits):\n",
        "    data[\"kfold\"] = -1\n",
        "    num_bins = int(np.floor(1 + np.log2(len(data))))\n",
        "\n",
        "    data.loc[:, \"bins\"] = pd.cut(data[\"Clearsky DHI\"], bins=num_bins, labels=False)\n",
        "\n",
        "    kf = model_selection.StratifiedKFold(n_splits=num_splits, shuffle=True, random_state=42)\n",
        "    \n",
        "    for f, (t_, v_) in enumerate(kf.split(X=data, y=data.bins.values)):\n",
        "        data.loc[v_, 'kfold'] = f\n",
        "    \n",
        "    data = data.drop(\"bins\", axis=1)\n",
        "\n",
        "    return data"
      ],
      "metadata": {
        "id": "ZdGmh_cLdY-C"
      },
      "execution_count": null,
      "outputs": []
    },
    {
      "cell_type": "code",
      "source": [
        "train_data_dhi=create_folds(train_data,5)"
      ],
      "metadata": {
        "colab": {
          "base_uri": "https://localhost:8080/"
        },
        "id": "3cbrLvbXweGe",
        "outputId": "fa375150-14b5-4ecf-84f4-d793ae91da33"
      },
      "execution_count": null,
      "outputs": [
        {
          "output_type": "stream",
          "name": "stderr",
          "text": [
            "/usr/local/lib/python3.7/dist-packages/sklearn/model_selection/_split.py:680: UserWarning: The least populated class in y has only 1 members, which is less than n_splits=5.\n",
            "  UserWarning,\n"
          ]
        }
      ]
    },
    {
      "cell_type": "code",
      "source": [
        "model_dhi1=XGBRegressor(n_estimators=1200,random_state=42)\n",
        "model_dhi2=XGBRegressor(n_estimators=1200,random_state=42)\n",
        "model_dhi3=XGBRegressor(n_estimators=1200,random_state=42)\n",
        "model_dhi4=XGBRegressor(n_estimators=1200,random_state=42)\n",
        "model_dhi5=XGBRegressor(n_estimators=1200,random_state=42)\n",
        "errors_dhi=[]\n",
        "models=[]\n",
        "for i in range(5):\n",
        "  train_data=train_data_dhi[train_data_dhi['kfold']!=i]\n",
        "  train_data_y=train_data['Clearsky DHI']\n",
        "  train_data_x=train_data[['Year','Month','Day','Hour','Minute','Cloud Type','Dew Point','Temperature','Pressure','Relative Humidity','Solar Zenith Angle','Precipitable Water','Wind Direction','Wind Speed','Fill Flag']]\n",
        "  valid_data=train_data_dhi[train_data_dhi['kfold']==i]\n",
        "  valid_data_y=valid_data['Clearsky DHI']\n",
        "  valid_data_x=valid_data[['Year','Month','Day','Hour','Minute','Cloud Type','Dew Point','Temperature','Pressure','Relative Humidity','Solar Zenith Angle','Precipitable Water','Wind Direction','Wind Speed','Fill Flag']]\n",
        "  print(train_data.shape,valid_data.shape)\n",
        "  #model_dhi=XGBRegressor(n_estimators=1200,random_state=42)\n",
        "  if(i==0):\n",
        "    model_dhi1.fit(train_data_x,train_data_y,early_stopping_rounds=4,eval_set=[(valid_data_x,valid_data_y)],verbose=False)\n",
        "    predict=model_dhi1.predict(valid_data_x)\n",
        "    errors_dhi.append(mean_squared_error(predict,valid_data_y))\n",
        "\n",
        "  if(i==1):\n",
        "\n",
        "    model_dhi2.fit(train_data_x,train_data_y,early_stopping_rounds=4,eval_set=[(valid_data_x,valid_data_y)],verbose=False)\n",
        "    predict=model_dhi2.predict(valid_data_x)\n",
        "    errors_dhi.append(mean_squared_error(predict,valid_data_y))\n",
        "\n",
        "  if(i==2):\n",
        "    model_dhi3.fit(train_data_x,train_data_y,early_stopping_rounds=4,eval_set=[(valid_data_x,valid_data_y)],verbose=False)\n",
        "    predict=model_dhi3.predict(valid_data_x)\n",
        "    errors_dhi.append(mean_squared_error(predict,valid_data_y))\n",
        "\n",
        "  if(i==3):\n",
        "    model_dhi4.fit(train_data_x,train_data_y,early_stopping_rounds=4,eval_set=[(valid_data_x,valid_data_y)],verbose=False)\n",
        "    predict=model_dhi4.predict(valid_data_x)\n",
        "    errors_dhi.append(mean_squared_error(predict,valid_data_y))\n",
        "\n",
        "  if(i==4):\n",
        "    model_dhi5.fit(train_data_x,train_data_y,early_stopping_rounds=4,eval_set=[(valid_data_x,valid_data_y)],verbose=False)\n",
        "    predict=model_dhi5.predict(valid_data_x)\n",
        "    errors_dhi.append(mean_squared_error(predict,valid_data_y))\n",
        "   "
      ],
      "metadata": {
        "colab": {
          "base_uri": "https://localhost:8080/"
        },
        "id": "pBQvW6R_x3hT",
        "outputId": "bb69e5fd-876a-49ae-f9ef-5306c0197059"
      },
      "execution_count": null,
      "outputs": [
        {
          "output_type": "stream",
          "name": "stdout",
          "text": [
            "(140236, 19) (35060, 19)\n",
            "[16:23:06] WARNING: /workspace/src/objective/regression_obj.cu:152: reg:linear is now deprecated in favor of reg:squarederror.\n",
            "(140237, 19) (35059, 19)\n",
            "[16:24:11] WARNING: /workspace/src/objective/regression_obj.cu:152: reg:linear is now deprecated in favor of reg:squarederror.\n",
            "(140237, 19) (35059, 19)\n",
            "[16:25:03] WARNING: /workspace/src/objective/regression_obj.cu:152: reg:linear is now deprecated in favor of reg:squarederror.\n",
            "(140237, 19) (35059, 19)\n",
            "[16:26:26] WARNING: /workspace/src/objective/regression_obj.cu:152: reg:linear is now deprecated in favor of reg:squarederror.\n",
            "(140237, 19) (35059, 19)\n",
            "[16:27:52] WARNING: /workspace/src/objective/regression_obj.cu:152: reg:linear is now deprecated in favor of reg:squarederror.\n"
          ]
        }
      ]
    },
    {
      "cell_type": "code",
      "source": [
        "errors_dhi"
      ],
      "metadata": {
        "colab": {
          "base_uri": "https://localhost:8080/"
        },
        "id": "9l3YHE5M3uRc",
        "outputId": "eae5cc88-b0eb-4f48-813b-1fb2208d04df"
      },
      "execution_count": null,
      "outputs": [
        {
          "output_type": "execute_result",
          "data": {
            "text/plain": [
              "[195.28015370926246,\n",
              " 200.33780737316243,\n",
              " 190.69357459019704,\n",
              " 191.74020444668258,\n",
              " 197.21837000489415]"
            ]
          },
          "metadata": {},
          "execution_count": 36
        }
      ]
    },
    {
      "cell_type": "code",
      "source": [
        "train_data=pd.read_csv('/content/drive/MyDrive/Wipro hackathon/Participants_Data_WSMLC/train.csv')\n",
        "test_data=pd.read_csv('/content/drive/MyDrive/Wipro hackathon/Participants_Data_WSMLC/test.csv')"
      ],
      "metadata": {
        "id": "QJG6m2O545-T"
      },
      "execution_count": null,
      "outputs": []
    },
    {
      "cell_type": "code",
      "source": [
        "def create_folds2(data, num_splits):\n",
        "    data[\"kfold\"] = -1\n",
        "    num_bins = int(np.floor(1 + np.log2(len(data))))\n",
        "\n",
        "    data.loc[:, \"bins\"] = pd.cut(data[\"Clearsky DNI\"], bins=num_bins, labels=False)\n",
        "\n",
        "    kf = model_selection.StratifiedKFold(n_splits=num_splits, shuffle=True, random_state=42)\n",
        "    \n",
        "    for f, (t_, v_) in enumerate(kf.split(X=data, y=data.bins.values)):\n",
        "        data.loc[v_, 'kfold'] = f\n",
        "    \n",
        "    data = data.drop(\"bins\", axis=1)\n",
        "\n",
        "    return data"
      ],
      "metadata": {
        "id": "35bskt46zgrH"
      },
      "execution_count": null,
      "outputs": []
    },
    {
      "cell_type": "code",
      "source": [
        "train_data_dni=create_folds2(train_data,5)"
      ],
      "metadata": {
        "id": "VZLjbPfO4tmO"
      },
      "execution_count": null,
      "outputs": []
    },
    {
      "cell_type": "code",
      "source": [
        "model_dni1=XGBRegressor(n_estimators=1200,random_state=42)\n",
        "model_dni2=XGBRegressor(n_estimators=1200,random_state=42)\n",
        "model_dni3=XGBRegressor(n_estimators=1200,random_state=42)\n",
        "model_dni4=XGBRegressor(n_estimators=1200,random_state=42)\n",
        "model_dni5=XGBRegressor(n_estimators=1200,random_state=42)\n",
        "errors_dni=[]\n",
        "models=[]\n",
        "for i in range(5):\n",
        "  train_data=train_data_dni[train_data_dni['kfold']!=i]\n",
        "  train_data_y=train_data['Clearsky DNI']\n",
        "  train_data_x=train_data[['Year','Month','Day','Hour','Minute','Cloud Type','Dew Point','Temperature','Pressure','Relative Humidity','Solar Zenith Angle','Precipitable Water','Wind Direction','Wind Speed','Fill Flag']]\n",
        "  valid_data=train_data_dni[train_data_dni['kfold']==i]\n",
        "  valid_data_y=valid_data['Clearsky DNI']\n",
        "  valid_data_x=valid_data[['Year','Month','Day','Hour','Minute','Cloud Type','Dew Point','Temperature','Pressure','Relative Humidity','Solar Zenith Angle','Precipitable Water','Wind Direction','Wind Speed','Fill Flag']]\n",
        "  print(train_data.shape,valid_data.shape)\n",
        "  #model_dhi=XGBRegressor(n_estimators=1200,random_state=42)\n",
        "  if(i==0):\n",
        "    model_dni1.fit(train_data_x,train_data_y,early_stopping_rounds=4,eval_set=[(valid_data_x,valid_data_y)],verbose=False)\n",
        "    predict=model_dni1.predict(valid_data_x)\n",
        "    errors_dni.append(mean_squared_error(predict,valid_data_y))\n",
        "\n",
        "  if(i==1):\n",
        "\n",
        "    model_dni2.fit(train_data_x,train_data_y,early_stopping_rounds=4,eval_set=[(valid_data_x,valid_data_y)],verbose=False)\n",
        "    predict=model_dni2.predict(valid_data_x)\n",
        "    errors_dni.append(mean_squared_error(predict,valid_data_y))\n",
        "\n",
        "  if(i==2):\n",
        "    model_dni3.fit(train_data_x,train_data_y,early_stopping_rounds=4,eval_set=[(valid_data_x,valid_data_y)],verbose=False)\n",
        "    predict=model_dni3.predict(valid_data_x)\n",
        "    errors_dni.append(mean_squared_error(predict,valid_data_y))\n",
        "\n",
        "  if(i==3):\n",
        "    model_dni4.fit(train_data_x,train_data_y,early_stopping_rounds=4,eval_set=[(valid_data_x,valid_data_y)],verbose=False)\n",
        "    predict=model_dni4.predict(valid_data_x)\n",
        "    errors_dni.append(mean_squared_error(predict,valid_data_y))\n",
        "\n",
        "  if(i==4):\n",
        "    model_dni5.fit(train_data_x,train_data_y,early_stopping_rounds=4,eval_set=[(valid_data_x,valid_data_y)],verbose=False)\n",
        "    predict=model_dni5.predict(valid_data_x)\n",
        "    errors_dni.append(mean_squared_error(predict,valid_data_y))\n",
        "   "
      ],
      "metadata": {
        "colab": {
          "base_uri": "https://localhost:8080/"
        },
        "id": "eEWWaznS4xFu",
        "outputId": "e4e8986b-16bd-4a15-f717-d3867f77ef25"
      },
      "execution_count": null,
      "outputs": [
        {
          "output_type": "stream",
          "name": "stdout",
          "text": [
            "(140236, 19) (35060, 19)\n",
            "[16:41:56] WARNING: /workspace/src/objective/regression_obj.cu:152: reg:linear is now deprecated in favor of reg:squarederror.\n",
            "(140237, 19) (35059, 19)\n",
            "[16:43:43] WARNING: /workspace/src/objective/regression_obj.cu:152: reg:linear is now deprecated in favor of reg:squarederror.\n",
            "(140237, 19) (35059, 19)\n",
            "[16:44:43] WARNING: /workspace/src/objective/regression_obj.cu:152: reg:linear is now deprecated in favor of reg:squarederror.\n",
            "(140237, 19) (35059, 19)\n",
            "[16:46:30] WARNING: /workspace/src/objective/regression_obj.cu:152: reg:linear is now deprecated in favor of reg:squarederror.\n",
            "(140237, 19) (35059, 19)\n",
            "[16:48:15] WARNING: /workspace/src/objective/regression_obj.cu:152: reg:linear is now deprecated in favor of reg:squarederror.\n"
          ]
        }
      ]
    },
    {
      "cell_type": "code",
      "source": [
        "errors_dni"
      ],
      "metadata": {
        "colab": {
          "base_uri": "https://localhost:8080/"
        },
        "id": "ksRZDwOi5ysX",
        "outputId": "9859d0aa-704f-40cd-edc8-e0677479e08b"
      },
      "execution_count": null,
      "outputs": [
        {
          "output_type": "execute_result",
          "data": {
            "text/plain": [
              "[1143.8714882866357,\n",
              " 1190.271859767755,\n",
              " 1116.3508734704237,\n",
              " 1191.3636527948395,\n",
              " 1154.7643258881149]"
            ]
          },
          "metadata": {},
          "execution_count": 48
        }
      ]
    },
    {
      "cell_type": "code",
      "source": [
        "train_data=pd.read_csv('/content/drive/MyDrive/Wipro hackathon/Participants_Data_WSMLC/train.csv')\n",
        "test_data=pd.read_csv('/content/drive/MyDrive/Wipro hackathon/Participants_Data_WSMLC/test.csv')"
      ],
      "metadata": {
        "id": "Bqb7R6UL6QCm"
      },
      "execution_count": null,
      "outputs": []
    },
    {
      "cell_type": "code",
      "source": [
        "def create_folds3(data, num_splits):\n",
        "    data[\"kfold\"] = -1\n",
        "    num_bins = int(np.floor(1 + np.log2(len(data))))\n",
        "\n",
        "    data.loc[:, \"bins\"] = pd.cut(data[\"Clearsky GHI\"], bins=num_bins, labels=False)\n",
        "\n",
        "    kf = model_selection.StratifiedKFold(n_splits=num_splits, shuffle=True, random_state=42)\n",
        "    \n",
        "    for f, (t_, v_) in enumerate(kf.split(X=data, y=data.bins.values)):\n",
        "        data.loc[v_, 'kfold'] = f\n",
        "    \n",
        "    data = data.drop(\"bins\", axis=1)\n",
        "\n",
        "    return data"
      ],
      "metadata": {
        "id": "nKMUeVlr6vjb"
      },
      "execution_count": null,
      "outputs": []
    },
    {
      "cell_type": "code",
      "source": [
        "train_data_ghi=create_folds3(train_data,5)"
      ],
      "metadata": {
        "id": "dJUuhHG98cY_"
      },
      "execution_count": null,
      "outputs": []
    },
    {
      "cell_type": "code",
      "source": [
        "model_ghi1=XGBRegressor(n_estimators=1200,random_state=42)\n",
        "model_ghi2=XGBRegressor(n_estimators=1200,random_state=42)\n",
        "model_ghi3=XGBRegressor(n_estimators=1200,random_state=42)\n",
        "model_ghi4=XGBRegressor(n_estimators=1200,random_state=42)\n",
        "model_ghi5=XGBRegressor(n_estimators=1200,random_state=42)\n",
        "errors_ghi=[]\n",
        " \n",
        "for i in range(5):\n",
        "  train_data=train_data_ghi[train_data_ghi['kfold']!=i]\n",
        "  train_data_y=train_data['Clearsky GHI']\n",
        "  train_data_x=train_data[['Year','Month','Day','Hour','Minute','Cloud Type','Dew Point','Temperature','Pressure','Relative Humidity','Solar Zenith Angle','Precipitable Water','Wind Direction','Wind Speed','Fill Flag']]\n",
        "  valid_data=train_data_ghi[train_data_ghi['kfold']==i]\n",
        "  valid_data_y=valid_data['Clearsky GHI']\n",
        "  valid_data_x=valid_data[['Year','Month','Day','Hour','Minute','Cloud Type','Dew Point','Temperature','Pressure','Relative Humidity','Solar Zenith Angle','Precipitable Water','Wind Direction','Wind Speed','Fill Flag']]\n",
        "  print(train_data.shape,valid_data.shape)\n",
        "  #model_dhi=XGBRegressor(n_estimators=1200,random_state=42)\n",
        "  if(i==0):\n",
        "    model_ghi1.fit(train_data_x,train_data_y,early_stopping_rounds=4,eval_set=[(valid_data_x,valid_data_y)],verbose=False)\n",
        "    predict=model_ghi1.predict(valid_data_x)\n",
        "    errors_ghi.append(mean_squared_error(predict,valid_data_y))\n",
        "\n",
        "  if(i==1):\n",
        "\n",
        "    model_ghi2.fit(train_data_x,train_data_y,early_stopping_rounds=4,eval_set=[(valid_data_x,valid_data_y)],verbose=False)\n",
        "    predict=model_ghi2.predict(valid_data_x)\n",
        "    errors_ghi.append(mean_squared_error(predict,valid_data_y))\n",
        "\n",
        "  if(i==2):\n",
        "    model_ghi3.fit(train_data_x,train_data_y,early_stopping_rounds=4,eval_set=[(valid_data_x,valid_data_y)],verbose=False)\n",
        "    predict=model_ghi3.predict(valid_data_x)\n",
        "    errors_ghi.append(mean_squared_error(predict,valid_data_y))\n",
        "\n",
        "  if(i==3):\n",
        "    model_ghi4.fit(train_data_x,train_data_y,early_stopping_rounds=4,eval_set=[(valid_data_x,valid_data_y)],verbose=False)\n",
        "    predict=model_ghi4.predict(valid_data_x)\n",
        "    errors_ghi.append(mean_squared_error(predict,valid_data_y))\n",
        "\n",
        "  if(i==4):\n",
        "    model_ghi5.fit(train_data_x,train_data_y,early_stopping_rounds=4,eval_set=[(valid_data_x,valid_data_y)],verbose=False)\n",
        "    predict=model_ghi5.predict(valid_data_x)\n",
        "    errors_ghi.append(mean_squared_error(predict,valid_data_y))\n",
        "   "
      ],
      "metadata": {
        "colab": {
          "base_uri": "https://localhost:8080/"
        },
        "id": "LwLj1HY98hxw",
        "outputId": "8a4d3077-cad7-4be2-e490-4a2886fde3bd"
      },
      "execution_count": null,
      "outputs": [
        {
          "output_type": "stream",
          "name": "stdout",
          "text": [
            "(140236, 19) (35060, 19)\n",
            "[16:54:22] WARNING: /workspace/src/objective/regression_obj.cu:152: reg:linear is now deprecated in favor of reg:squarederror.\n",
            "(140237, 19) (35059, 19)\n",
            "[16:56:06] WARNING: /workspace/src/objective/regression_obj.cu:152: reg:linear is now deprecated in favor of reg:squarederror.\n",
            "(140237, 19) (35059, 19)\n",
            "[16:57:51] WARNING: /workspace/src/objective/regression_obj.cu:152: reg:linear is now deprecated in favor of reg:squarederror.\n",
            "(140237, 19) (35059, 19)\n",
            "[16:59:37] WARNING: /workspace/src/objective/regression_obj.cu:152: reg:linear is now deprecated in favor of reg:squarederror.\n",
            "(140237, 19) (35059, 19)\n",
            "[17:01:20] WARNING: /workspace/src/objective/regression_obj.cu:152: reg:linear is now deprecated in favor of reg:squarederror.\n"
          ]
        }
      ]
    },
    {
      "cell_type": "code",
      "source": [
        "errors_ghi"
      ],
      "metadata": {
        "colab": {
          "base_uri": "https://localhost:8080/"
        },
        "id": "cpPQyHrS9SsR",
        "outputId": "a86cda2d-1503-48e9-face-8b38d302a16d"
      },
      "execution_count": null,
      "outputs": [
        {
          "output_type": "execute_result",
          "data": {
            "text/plain": [
              "[32.43706485624388,\n",
              " 32.829726441908925,\n",
              " 32.41942991391489,\n",
              " 32.11845958523422,\n",
              " 32.74228065401354]"
            ]
          },
          "metadata": {},
          "execution_count": 54
        }
      ]
    },
    {
      "cell_type": "code",
      "source": [
        "test_data_x=test_data[['Year','Month','Day','Hour','Minute','Cloud Type','Dew Point','Temperature','Pressure','Relative Humidity','Solar Zenith Angle','Precipitable Water','Wind Direction','Wind Speed','Fill Flag']]"
      ],
      "metadata": {
        "id": "d3G9A1HEB-_3"
      },
      "execution_count": null,
      "outputs": []
    },
    {
      "cell_type": "code",
      "source": [
        "predict_dhi1=model_dhi1.predict(test_data_x)\n",
        "predict_dhi2=model_dhi2.predict(test_data_x)\n",
        "predict_dhi3=model_dhi3.predict(test_data_x)\n",
        "predict_dhi4=model_dhi4.predict(test_data_x)\n",
        "predict_dhi5=model_dhi5.predict(test_data_x)\n",
        "predict_dhi=(predict_dhi1+predict_dhi2+predict_dhi3+predict_dhi4+predict_dhi5)/5.0 "
      ],
      "metadata": {
        "id": "v1drjgHNC20Y"
      },
      "execution_count": null,
      "outputs": []
    },
    {
      "cell_type": "code",
      "source": [
        "predict_dni1=model_dni1.predict(test_data_x)\n",
        "predict_dni2=model_dni2.predict(test_data_x)\n",
        "predict_dni3=model_dni3.predict(test_data_x)\n",
        "predict_dni4=model_dni4.predict(test_data_x)\n",
        "predict_dni5=model_dni5.predict(test_data_x)\n",
        "predict_dni=(predict_dni1+predict_dni2+predict_dni3+predict_dni4+predict_dni5)/5.0 "
      ],
      "metadata": {
        "id": "saWhiH-bC8Xw"
      },
      "execution_count": null,
      "outputs": []
    },
    {
      "cell_type": "code",
      "source": [
        "predict_ghi1=model_ghi1.predict(test_data_x)\n",
        "predict_ghi2=model_ghi2.predict(test_data_x)\n",
        "predict_ghi3=model_ghi3.predict(test_data_x)\n",
        "predict_ghi4=model_ghi4.predict(test_data_x)\n",
        "predict_ghi5=model_ghi5.predict(test_data_x)\n",
        "predict_ghi=(predict_ghi1+predict_ghi2+predict_ghi3+predict_ghi4+predict_ghi5)/5.0 "
      ],
      "metadata": {
        "id": "ybUBlru8EKAZ"
      },
      "execution_count": null,
      "outputs": []
    },
    {
      "cell_type": "code",
      "source": [
        "for i in range(predict_dhi.shape[0]):\n",
        "  if(predict_dhi[i]<0):\n",
        "    predict_dhi[i]=0\n",
        "\n",
        "for i in range(predict_dni.shape[0]):\n",
        "  if(predict_dni[i]<0):\n",
        "    predict_dni[i]=0\n",
        "\n",
        "for i in range(predict_ghi.shape[0]):\n",
        "  if(predict_ghi[i]<0):\n",
        "    predict_ghi[i]=0\n"
      ],
      "metadata": {
        "id": "v_OWXMXyE29Z"
      },
      "execution_count": null,
      "outputs": []
    },
    {
      "cell_type": "code",
      "source": [
        "predict={'Clearsky DHI':predict_dhi,'Clearsky DNI':predict_dni,'Clearsky GHI':predict_ghi}\n",
        "submit=pd.DataFrame(predict)"
      ],
      "metadata": {
        "id": "Nr8VNbLFEhqJ"
      },
      "execution_count": null,
      "outputs": []
    },
    {
      "cell_type": "code",
      "source": [
        "submit.describe()"
      ],
      "metadata": {
        "colab": {
          "base_uri": "https://localhost:8080/",
          "height": 300
        },
        "id": "4hibVQFwEych",
        "outputId": "6387cf7b-8826-4ad5-9551-e55219ab1cb7"
      },
      "execution_count": null,
      "outputs": [
        {
          "output_type": "execute_result",
          "data": {
            "text/html": [
              "\n",
              "  <div id=\"df-357bdb77-3834-4b46-9668-d5cd6f174fc6\">\n",
              "    <div class=\"colab-df-container\">\n",
              "      <div>\n",
              "<style scoped>\n",
              "    .dataframe tbody tr th:only-of-type {\n",
              "        vertical-align: middle;\n",
              "    }\n",
              "\n",
              "    .dataframe tbody tr th {\n",
              "        vertical-align: top;\n",
              "    }\n",
              "\n",
              "    .dataframe thead th {\n",
              "        text-align: right;\n",
              "    }\n",
              "</style>\n",
              "<table border=\"1\" class=\"dataframe\">\n",
              "  <thead>\n",
              "    <tr style=\"text-align: right;\">\n",
              "      <th></th>\n",
              "      <th>Clearsky DHI</th>\n",
              "      <th>Clearsky DNI</th>\n",
              "      <th>Clearsky GHI</th>\n",
              "    </tr>\n",
              "  </thead>\n",
              "  <tbody>\n",
              "    <tr>\n",
              "      <th>count</th>\n",
              "      <td>17520.000000</td>\n",
              "      <td>17520.000000</td>\n",
              "      <td>17520.000000</td>\n",
              "    </tr>\n",
              "    <tr>\n",
              "      <th>mean</th>\n",
              "      <td>49.752232</td>\n",
              "      <td>341.809784</td>\n",
              "      <td>256.332184</td>\n",
              "    </tr>\n",
              "    <tr>\n",
              "      <th>std</th>\n",
              "      <td>56.982178</td>\n",
              "      <td>374.809753</td>\n",
              "      <td>328.937073</td>\n",
              "    </tr>\n",
              "    <tr>\n",
              "      <th>min</th>\n",
              "      <td>0.000000</td>\n",
              "      <td>0.000000</td>\n",
              "      <td>0.000000</td>\n",
              "    </tr>\n",
              "    <tr>\n",
              "      <th>25%</th>\n",
              "      <td>0.000000</td>\n",
              "      <td>1.045866</td>\n",
              "      <td>0.220013</td>\n",
              "    </tr>\n",
              "    <tr>\n",
              "      <th>50%</th>\n",
              "      <td>7.077966</td>\n",
              "      <td>28.838941</td>\n",
              "      <td>4.522556</td>\n",
              "    </tr>\n",
              "    <tr>\n",
              "      <th>75%</th>\n",
              "      <td>99.412123</td>\n",
              "      <td>760.534607</td>\n",
              "      <td>536.745758</td>\n",
              "    </tr>\n",
              "    <tr>\n",
              "      <th>max</th>\n",
              "      <td>248.491974</td>\n",
              "      <td>1022.593384</td>\n",
              "      <td>1036.334473</td>\n",
              "    </tr>\n",
              "  </tbody>\n",
              "</table>\n",
              "</div>\n",
              "      <button class=\"colab-df-convert\" onclick=\"convertToInteractive('df-357bdb77-3834-4b46-9668-d5cd6f174fc6')\"\n",
              "              title=\"Convert this dataframe to an interactive table.\"\n",
              "              style=\"display:none;\">\n",
              "        \n",
              "  <svg xmlns=\"http://www.w3.org/2000/svg\" height=\"24px\"viewBox=\"0 0 24 24\"\n",
              "       width=\"24px\">\n",
              "    <path d=\"M0 0h24v24H0V0z\" fill=\"none\"/>\n",
              "    <path d=\"M18.56 5.44l.94 2.06.94-2.06 2.06-.94-2.06-.94-.94-2.06-.94 2.06-2.06.94zm-11 1L8.5 8.5l.94-2.06 2.06-.94-2.06-.94L8.5 2.5l-.94 2.06-2.06.94zm10 10l.94 2.06.94-2.06 2.06-.94-2.06-.94-.94-2.06-.94 2.06-2.06.94z\"/><path d=\"M17.41 7.96l-1.37-1.37c-.4-.4-.92-.59-1.43-.59-.52 0-1.04.2-1.43.59L10.3 9.45l-7.72 7.72c-.78.78-.78 2.05 0 2.83L4 21.41c.39.39.9.59 1.41.59.51 0 1.02-.2 1.41-.59l7.78-7.78 2.81-2.81c.8-.78.8-2.07 0-2.86zM5.41 20L4 18.59l7.72-7.72 1.47 1.35L5.41 20z\"/>\n",
              "  </svg>\n",
              "      </button>\n",
              "      \n",
              "  <style>\n",
              "    .colab-df-container {\n",
              "      display:flex;\n",
              "      flex-wrap:wrap;\n",
              "      gap: 12px;\n",
              "    }\n",
              "\n",
              "    .colab-df-convert {\n",
              "      background-color: #E8F0FE;\n",
              "      border: none;\n",
              "      border-radius: 50%;\n",
              "      cursor: pointer;\n",
              "      display: none;\n",
              "      fill: #1967D2;\n",
              "      height: 32px;\n",
              "      padding: 0 0 0 0;\n",
              "      width: 32px;\n",
              "    }\n",
              "\n",
              "    .colab-df-convert:hover {\n",
              "      background-color: #E2EBFA;\n",
              "      box-shadow: 0px 1px 2px rgba(60, 64, 67, 0.3), 0px 1px 3px 1px rgba(60, 64, 67, 0.15);\n",
              "      fill: #174EA6;\n",
              "    }\n",
              "\n",
              "    [theme=dark] .colab-df-convert {\n",
              "      background-color: #3B4455;\n",
              "      fill: #D2E3FC;\n",
              "    }\n",
              "\n",
              "    [theme=dark] .colab-df-convert:hover {\n",
              "      background-color: #434B5C;\n",
              "      box-shadow: 0px 1px 3px 1px rgba(0, 0, 0, 0.15);\n",
              "      filter: drop-shadow(0px 1px 2px rgba(0, 0, 0, 0.3));\n",
              "      fill: #FFFFFF;\n",
              "    }\n",
              "  </style>\n",
              "\n",
              "      <script>\n",
              "        const buttonEl =\n",
              "          document.querySelector('#df-357bdb77-3834-4b46-9668-d5cd6f174fc6 button.colab-df-convert');\n",
              "        buttonEl.style.display =\n",
              "          google.colab.kernel.accessAllowed ? 'block' : 'none';\n",
              "\n",
              "        async function convertToInteractive(key) {\n",
              "          const element = document.querySelector('#df-357bdb77-3834-4b46-9668-d5cd6f174fc6');\n",
              "          const dataTable =\n",
              "            await google.colab.kernel.invokeFunction('convertToInteractive',\n",
              "                                                     [key], {});\n",
              "          if (!dataTable) return;\n",
              "\n",
              "          const docLinkHtml = 'Like what you see? Visit the ' +\n",
              "            '<a target=\"_blank\" href=https://colab.research.google.com/notebooks/data_table.ipynb>data table notebook</a>'\n",
              "            + ' to learn more about interactive tables.';\n",
              "          element.innerHTML = '';\n",
              "          dataTable['output_type'] = 'display_data';\n",
              "          await google.colab.output.renderOutput(dataTable, element);\n",
              "          const docLink = document.createElement('div');\n",
              "          docLink.innerHTML = docLinkHtml;\n",
              "          element.appendChild(docLink);\n",
              "        }\n",
              "      </script>\n",
              "    </div>\n",
              "  </div>\n",
              "  "
            ],
            "text/plain": [
              "       Clearsky DHI  Clearsky DNI  Clearsky GHI\n",
              "count  17520.000000  17520.000000  17520.000000\n",
              "mean      49.752232    341.809784    256.332184\n",
              "std       56.982178    374.809753    328.937073\n",
              "min        0.000000      0.000000      0.000000\n",
              "25%        0.000000      1.045866      0.220013\n",
              "50%        7.077966     28.838941      4.522556\n",
              "75%       99.412123    760.534607    536.745758\n",
              "max      248.491974   1022.593384   1036.334473"
            ]
          },
          "metadata": {},
          "execution_count": 75
        }
      ]
    },
    {
      "cell_type": "code",
      "source": [
        "submit.to_csv('submission7.csv',index=False)"
      ],
      "metadata": {
        "id": "x0Km46i5E0RA"
      },
      "execution_count": null,
      "outputs": []
    },
    {
      "cell_type": "code",
      "source": [
        ""
      ],
      "metadata": {
        "id": "5T0TtHVTFRiK"
      },
      "execution_count": null,
      "outputs": []
    }
  ]
}